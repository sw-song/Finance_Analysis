{
 "cells": [
  {
   "cell_type": "markdown",
   "metadata": {},
   "source": [
    "# 1. Stock Return Calculation - NASDAQ TOP 15"
   ]
  },
  {
   "cell_type": "markdown",
   "metadata": {},
   "source": [
    "- df.pct_change()\n",
    "- df.product()"
   ]
  },
  {
   "cell_type": "markdown",
   "metadata": {},
   "source": [
    "```\n",
    "Step 1. Library Import & Load Data\n",
    "Step 2. Calculate the rate of return (aapl)\n",
    "Step 3. Calculate the rate of return (nasdaq)\n",
    "Step 4. Sort by Return (top 15)\n",
    "```\n"
   ]
  },
  {
   "cell_type": "markdown",
   "metadata": {},
   "source": [
    "## Step 1. Library import & Load Data"
   ]
  },
  {
   "cell_type": "code",
   "execution_count": 1,
   "metadata": {},
   "outputs": [],
   "source": [
    "import FinanceDataReader as fdr"
   ]
  },
  {
   "cell_type": "code",
   "execution_count": 5,
   "metadata": {},
   "outputs": [
    {
     "name": "stderr",
     "output_type": "stream",
     "text": [
      "100%|██████████| 3813/3813 [00:05<00:00, 716.35it/s]\n"
     ]
    }
   ],
   "source": [
    "nasdaq = fdr.StockListing('NASDAQ')"
   ]
  },
  {
   "cell_type": "code",
   "execution_count": 6,
   "metadata": {},
   "outputs": [
    {
     "data": {
      "text/html": "<div>\n<style scoped>\n    .dataframe tbody tr th:only-of-type {\n        vertical-align: middle;\n    }\n\n    .dataframe tbody tr th {\n        vertical-align: top;\n    }\n\n    .dataframe thead th {\n        text-align: right;\n    }\n</style>\n<table border=\"1\" class=\"dataframe\">\n  <thead>\n    <tr style=\"text-align: right;\">\n      <th></th>\n      <th>Symbol</th>\n      <th>Name</th>\n      <th>Industry</th>\n      <th>IndustryCode</th>\n    </tr>\n  </thead>\n  <tbody>\n    <tr>\n      <th>0</th>\n      <td>AAPL</td>\n      <td>Apple Inc</td>\n      <td>컴퓨터, 전화 및 가전제품</td>\n      <td>571060</td>\n    </tr>\n    <tr>\n      <th>1</th>\n      <td>MSFT</td>\n      <td>Microsoft Corp</td>\n      <td>소프트웨어 및 IT서비스</td>\n      <td>572010</td>\n    </tr>\n    <tr>\n      <th>2</th>\n      <td>AMZN</td>\n      <td>Amazon.com Inc</td>\n      <td>다양한 소매업</td>\n      <td>534020</td>\n    </tr>\n    <tr>\n      <th>3</th>\n      <td>FB</td>\n      <td>Facebook Inc Class A</td>\n      <td>소프트웨어 및 IT서비스</td>\n      <td>572010</td>\n    </tr>\n    <tr>\n      <th>4</th>\n      <td>GOOGL</td>\n      <td>Alphabet Inc Class A</td>\n      <td>소프트웨어 및 IT서비스</td>\n      <td>572010</td>\n    </tr>\n  </tbody>\n</table>\n</div>",
      "text/plain": "  Symbol                  Name        Industry IndustryCode\n0   AAPL             Apple Inc  컴퓨터, 전화 및 가전제품       571060\n1   MSFT        Microsoft Corp   소프트웨어 및 IT서비스       572010\n2   AMZN        Amazon.com Inc         다양한 소매업       534020\n3     FB  Facebook Inc Class A   소프트웨어 및 IT서비스       572010\n4  GOOGL  Alphabet Inc Class A   소프트웨어 및 IT서비스       572010"
     },
     "execution_count": 6,
     "metadata": {},
     "output_type": "execute_result"
    }
   ],
   "source": [
    "nasdaq.head()"
   ]
  },
  {
   "cell_type": "code",
   "execution_count": 7,
   "metadata": {},
   "outputs": [
    {
     "data": {
      "text/plain": "3813"
     },
     "execution_count": 7,
     "metadata": {},
     "output_type": "execute_result"
    }
   ],
   "source": [
    "len(nasdaq)"
   ]
  },
  {
   "cell_type": "markdown",
   "metadata": {},
   "source": [
    "## Step 2. Calculate the rate of return (aapl)"
   ]
  },
  {
   "cell_type": "code",
   "execution_count": 13,
   "metadata": {},
   "outputs": [],
   "source": [
    "aapl = fdr.DataReader('AAPL', '2021-01-01') # 2021-01-01 ~ now"
   ]
  },
  {
   "cell_type": "code",
   "execution_count": 14,
   "metadata": {},
   "outputs": [
    {
     "data": {
      "text/html": "<div>\n<style scoped>\n    .dataframe tbody tr th:only-of-type {\n        vertical-align: middle;\n    }\n\n    .dataframe tbody tr th {\n        vertical-align: top;\n    }\n\n    .dataframe thead th {\n        text-align: right;\n    }\n</style>\n<table border=\"1\" class=\"dataframe\">\n  <thead>\n    <tr style=\"text-align: right;\">\n      <th></th>\n      <th>Close</th>\n      <th>Open</th>\n      <th>High</th>\n      <th>Low</th>\n      <th>Volume</th>\n      <th>Change</th>\n    </tr>\n    <tr>\n      <th>Date</th>\n      <th></th>\n      <th></th>\n      <th></th>\n      <th></th>\n      <th></th>\n      <th></th>\n    </tr>\n  </thead>\n  <tbody>\n    <tr>\n      <th>2021-01-04</th>\n      <td>129.41</td>\n      <td>133.52</td>\n      <td>133.61</td>\n      <td>126.76</td>\n      <td>143300000.0</td>\n      <td>-0.0247</td>\n    </tr>\n    <tr>\n      <th>2021-01-05</th>\n      <td>131.01</td>\n      <td>128.89</td>\n      <td>131.74</td>\n      <td>128.43</td>\n      <td>97670000.0</td>\n      <td>0.0124</td>\n    </tr>\n    <tr>\n      <th>2021-01-06</th>\n      <td>126.60</td>\n      <td>127.72</td>\n      <td>131.05</td>\n      <td>126.38</td>\n      <td>155090000.0</td>\n      <td>-0.0337</td>\n    </tr>\n    <tr>\n      <th>2021-01-07</th>\n      <td>130.92</td>\n      <td>128.36</td>\n      <td>131.63</td>\n      <td>127.86</td>\n      <td>109580000.0</td>\n      <td>0.0341</td>\n    </tr>\n    <tr>\n      <th>2021-01-08</th>\n      <td>132.05</td>\n      <td>132.43</td>\n      <td>132.63</td>\n      <td>130.23</td>\n      <td>105160000.0</td>\n      <td>0.0086</td>\n    </tr>\n    <tr>\n      <th>...</th>\n      <td>...</td>\n      <td>...</td>\n      <td>...</td>\n      <td>...</td>\n      <td>...</td>\n      <td>...</td>\n    </tr>\n    <tr>\n      <th>2021-05-11</th>\n      <td>125.91</td>\n      <td>123.12</td>\n      <td>126.27</td>\n      <td>122.84</td>\n      <td>126140000.0</td>\n      <td>-0.0074</td>\n    </tr>\n    <tr>\n      <th>2021-05-12</th>\n      <td>122.77</td>\n      <td>123.50</td>\n      <td>124.59</td>\n      <td>122.25</td>\n      <td>112170000.0</td>\n      <td>-0.0249</td>\n    </tr>\n    <tr>\n      <th>2021-05-13</th>\n      <td>124.97</td>\n      <td>124.72</td>\n      <td>126.11</td>\n      <td>124.27</td>\n      <td>105860000.0</td>\n      <td>0.0179</td>\n    </tr>\n    <tr>\n      <th>2021-05-14</th>\n      <td>127.45</td>\n      <td>126.25</td>\n      <td>127.89</td>\n      <td>125.85</td>\n      <td>81920000.0</td>\n      <td>0.0198</td>\n    </tr>\n    <tr>\n      <th>2021-05-17</th>\n      <td>126.27</td>\n      <td>126.83</td>\n      <td>126.83</td>\n      <td>125.18</td>\n      <td>74240000.0</td>\n      <td>-0.0093</td>\n    </tr>\n  </tbody>\n</table>\n<p>93 rows × 6 columns</p>\n</div>",
      "text/plain": "             Close    Open    High     Low       Volume  Change\nDate                                                           \n2021-01-04  129.41  133.52  133.61  126.76  143300000.0 -0.0247\n2021-01-05  131.01  128.89  131.74  128.43   97670000.0  0.0124\n2021-01-06  126.60  127.72  131.05  126.38  155090000.0 -0.0337\n2021-01-07  130.92  128.36  131.63  127.86  109580000.0  0.0341\n2021-01-08  132.05  132.43  132.63  130.23  105160000.0  0.0086\n...            ...     ...     ...     ...          ...     ...\n2021-05-11  125.91  123.12  126.27  122.84  126140000.0 -0.0074\n2021-05-12  122.77  123.50  124.59  122.25  112170000.0 -0.0249\n2021-05-13  124.97  124.72  126.11  124.27  105860000.0  0.0179\n2021-05-14  127.45  126.25  127.89  125.85   81920000.0  0.0198\n2021-05-17  126.27  126.83  126.83  125.18   74240000.0 -0.0093\n\n[93 rows x 6 columns]"
     },
     "execution_count": 14,
     "metadata": {},
     "output_type": "execute_result"
    }
   ],
   "source": [
    "aapl"
   ]
  },
  {
   "cell_type": "code",
   "execution_count": 17,
   "metadata": {},
   "outputs": [
    {
     "data": {
      "text/plain": "<AxesSubplot:xlabel='Date'>"
     },
     "execution_count": 17,
     "metadata": {},
     "output_type": "execute_result"
    },
    {
     "data": {
      "image/png": "[encoded data removed]",
      "text/plain": "<Figure size 432x288 with 1 Axes>"
     },
     "metadata": {
      "needs_background": "light"
     },
     "output_type": "display_data"
    }
   ],
   "source": [
    "aapl['Change'].plot()"
   ]
  },
  {
   "cell_type": "code",
   "execution_count": 18,
   "metadata": {},
   "outputs": [
    {
     "data": {
      "text/plain": "Close     1.294100e+02\nOpen      1.335200e+02\nHigh      1.336100e+02\nLow       1.267600e+02\nVolume    1.433000e+08\nChange   -2.470000e-02\nName: 2021-01-04 00:00:00, dtype: float64"
     },
     "execution_count": 18,
     "metadata": {},
     "output_type": "execute_result"
    }
   ],
   "source": [
    "aapl.iloc[0]"
   ]
  },
  {
   "cell_type": "code",
   "execution_count": 21,
   "metadata": {},
   "outputs": [
    {
     "data": {
      "text/plain": "Date\n2021-01-04    129.41\n2021-01-05    131.01\n2021-01-06    126.60\n2021-01-07    130.92\n2021-01-08    132.05\n               ...  \n2021-05-11    125.91\n2021-05-12    122.77\n2021-05-13    124.97\n2021-05-14    127.45\n2021-05-17    126.27\nName: Close, Length: 93, dtype: float64"
     },
     "execution_count": 21,
     "metadata": {},
     "output_type": "execute_result"
    }
   ],
   "source": [
    "aapl['Close']"
   ]
  },
  {
   "cell_type": "code",
   "execution_count": 32,
   "metadata": {},
   "outputs": [
    {
     "data": {
      "text/plain": "Date\n2021-01-04         NaN\n2021-01-05    1.012364\n2021-01-06    0.966338\n2021-01-07    1.034123\n2021-01-08    1.008631\n                ...   \n2021-05-11    0.992590\n2021-05-12    0.975062\n2021-05-13    1.017920\n2021-05-14    1.019845\n2021-05-17    0.990741\nName: Close, Length: 93, dtype: float64"
     },
     "execution_count": 32,
     "metadata": {},
     "output_type": "execute_result"
    }
   ],
   "source": [
    "aapl['Close'].pct_change()+1"
   ]
  },
  {
   "cell_type": "code",
   "execution_count": 34,
   "metadata": {},
   "outputs": [
    {
     "data": {
      "text/plain": "0.9757360327640845"
     },
     "execution_count": 34,
     "metadata": {},
     "output_type": "execute_result"
    }
   ],
   "source": [
    "(aapl['Close'].pct_change()+1).product()"
   ]
  },
  {
   "cell_type": "markdown",
   "metadata": {},
   "source": [
    "## Step 3. Calculate the rate of return (nasdaq)"
   ]
  },
  {
   "cell_type": "code",
   "execution_count": 35,
   "metadata": {},
   "outputs": [
    {
     "data": {
      "text/html": "<div>\n<style scoped>\n    .dataframe tbody tr th:only-of-type {\n        vertical-align: middle;\n    }\n\n    .dataframe tbody tr th {\n        vertical-align: top;\n    }\n\n    .dataframe thead th {\n        text-align: right;\n    }\n</style>\n<table border=\"1\" class=\"dataframe\">\n  <thead>\n    <tr style=\"text-align: right;\">\n      <th></th>\n      <th>Symbol</th>\n      <th>Name</th>\n      <th>Industry</th>\n      <th>IndustryCode</th>\n    </tr>\n  </thead>\n  <tbody>\n    <tr>\n      <th>0</th>\n      <td>AAPL</td>\n      <td>Apple Inc</td>\n      <td>컴퓨터, 전화 및 가전제품</td>\n      <td>571060</td>\n    </tr>\n    <tr>\n      <th>1</th>\n      <td>MSFT</td>\n      <td>Microsoft Corp</td>\n      <td>소프트웨어 및 IT서비스</td>\n      <td>572010</td>\n    </tr>\n    <tr>\n      <th>2</th>\n      <td>AMZN</td>\n      <td>Amazon.com Inc</td>\n      <td>다양한 소매업</td>\n      <td>534020</td>\n    </tr>\n    <tr>\n      <th>3</th>\n      <td>FB</td>\n      <td>Facebook Inc Class A</td>\n      <td>소프트웨어 및 IT서비스</td>\n      <td>572010</td>\n    </tr>\n    <tr>\n      <th>4</th>\n      <td>GOOGL</td>\n      <td>Alphabet Inc Class A</td>\n      <td>소프트웨어 및 IT서비스</td>\n      <td>572010</td>\n    </tr>\n    <tr>\n      <th>...</th>\n      <td>...</td>\n      <td>...</td>\n      <td>...</td>\n      <td>...</td>\n    </tr>\n    <tr>\n      <th>3808</th>\n      <td>DISA</td>\n      <td>Disruptive Acquisition Corporation I Class A</td>\n      <td>기타 금융업</td>\n      <td>556010</td>\n    </tr>\n    <tr>\n      <th>3809</th>\n      <td>DCRC</td>\n      <td>Decarbonization Plus Acquisition Corporation I...</td>\n      <td>기타 금융업</td>\n      <td>556010</td>\n    </tr>\n    <tr>\n      <th>3810</th>\n      <td>CRZN</td>\n      <td>Corazon Capital V838 Monoceros Corp Class A</td>\n      <td>기타 금융업</td>\n      <td>556010</td>\n    </tr>\n    <tr>\n      <th>3811</th>\n      <td>MSDA</td>\n      <td>MSD Acquisition Corp</td>\n      <td>기타 금융업</td>\n      <td>556010</td>\n    </tr>\n    <tr>\n      <th>3812</th>\n      <td>LCA</td>\n      <td>Landcadia Holdings IV Inc Class A</td>\n      <td>기타 금융업</td>\n      <td>556010</td>\n    </tr>\n  </tbody>\n</table>\n<p>3813 rows × 4 columns</p>\n</div>",
      "text/plain": "     Symbol                                               Name  \\\n0      AAPL                                          Apple Inc   \n1      MSFT                                     Microsoft Corp   \n2      AMZN                                     Amazon.com Inc   \n3        FB                               Facebook Inc Class A   \n4     GOOGL                               Alphabet Inc Class A   \n...     ...                                                ...   \n3808   DISA       Disruptive Acquisition Corporation I Class A   \n3809   DCRC  Decarbonization Plus Acquisition Corporation I...   \n3810   CRZN        Corazon Capital V838 Monoceros Corp Class A   \n3811   MSDA                               MSD Acquisition Corp   \n3812    LCA                  Landcadia Holdings IV Inc Class A   \n\n            Industry IndustryCode  \n0     컴퓨터, 전화 및 가전제품       571060  \n1      소프트웨어 및 IT서비스       572010  \n2            다양한 소매업       534020  \n3      소프트웨어 및 IT서비스       572010  \n4      소프트웨어 및 IT서비스       572010  \n...              ...          ...  \n3808          기타 금융업       556010  \n3809          기타 금융업       556010  \n3810          기타 금융업       556010  \n3811          기타 금융업       556010  \n3812          기타 금융업       556010  \n\n[3813 rows x 4 columns]"
     },
     "execution_count": 35,
     "metadata": {},
     "output_type": "execute_result"
    }
   ],
   "source": [
    "nasdaq"
   ]
  },
  {
   "cell_type": "code",
   "execution_count": 52,
   "metadata": {},
   "outputs": [
    {
     "name": "stdout",
     "output_type": "stream",
     "text": [
      "load data .. AAPL - 1/15\n",
      "load data .. MSFT - 2/15\n",
      "load data .. AMZN - 3/15\n",
      "load data .. FB - 4/15\n",
      "load data .. GOOGL - 5/15\n",
      "load data .. GOOG - 6/15\n",
      "load data .. TSLA - 7/15\n",
      "load data .. NVDA - 8/15\n",
      "load data .. PYPL - 9/15\n",
      "load data .. ASML - 10/15\n",
      "load data .. CMCSA - 11/15\n",
      "load data .. ADBE - 12/15\n",
      "load data .. CSCO - 13/15\n",
      "load data .. INTC - 14/15\n",
      "load data .. NFLX - 15/15\n"
     ]
    }
   ],
   "source": [
    "nasdaq_price = {}\n",
    "i = 0\n",
    "for symbol in list(nasdaq['Symbol'].values):\n",
    "    nasdaq_price[symbol]=fdr.DataReader('{}'.format(symbol), '2021-01-01')['Close'].values\n",
    "    i += 1\n",
    "    print('load data .. {} - {}/15'.format(symbol, i))\n",
    "    if i >= 15:\n",
    "        break"
   ]
  },
  {
   "cell_type": "code",
   "execution_count": 56,
   "metadata": {},
   "outputs": [],
   "source": [
    "import pandas as pd\n",
    "nd_df = pd.DataFrame(columns=nasdaq['Symbol'][:15], \n",
    "                     data=nasdaq_price)"
   ]
  },
  {
   "cell_type": "code",
   "execution_count": 58,
   "metadata": {},
   "outputs": [
    {
     "data": {
      "text/html": "<div>\n<style scoped>\n    .dataframe tbody tr th:only-of-type {\n        vertical-align: middle;\n    }\n\n    .dataframe tbody tr th {\n        vertical-align: top;\n    }\n\n    .dataframe thead th {\n        text-align: right;\n    }\n</style>\n<table border=\"1\" class=\"dataframe\">\n  <thead>\n    <tr style=\"text-align: right;\">\n      <th>Symbol</th>\n      <th>AAPL</th>\n      <th>MSFT</th>\n      <th>AMZN</th>\n      <th>FB</th>\n      <th>GOOGL</th>\n      <th>GOOG</th>\n      <th>TSLA</th>\n      <th>NVDA</th>\n      <th>PYPL</th>\n      <th>ASML</th>\n      <th>CMCSA</th>\n      <th>ADBE</th>\n      <th>CSCO</th>\n      <th>INTC</th>\n      <th>NFLX</th>\n    </tr>\n  </thead>\n  <tbody>\n    <tr>\n      <th>0</th>\n      <td>129.41</td>\n      <td>217.69</td>\n      <td>3186.63</td>\n      <td>268.94</td>\n      <td>1726.13</td>\n      <td>1728.24</td>\n      <td>729.77</td>\n      <td>524.54</td>\n      <td>231.92</td>\n      <td>500.00</td>\n      <td>50.51</td>\n      <td>485.34</td>\n      <td>43.96</td>\n      <td>49.67</td>\n      <td>522.86</td>\n    </tr>\n    <tr>\n      <th>1</th>\n      <td>131.01</td>\n      <td>217.90</td>\n      <td>3218.51</td>\n      <td>270.97</td>\n      <td>1740.05</td>\n      <td>1740.92</td>\n      <td>735.11</td>\n      <td>536.19</td>\n      <td>234.91</td>\n      <td>505.36</td>\n      <td>49.98</td>\n      <td>485.69</td>\n      <td>43.98</td>\n      <td>50.61</td>\n      <td>520.80</td>\n    </tr>\n    <tr>\n      <th>2</th>\n      <td>126.60</td>\n      <td>212.25</td>\n      <td>3138.38</td>\n      <td>263.31</td>\n      <td>1722.88</td>\n      <td>1735.29</td>\n      <td>755.98</td>\n      <td>504.58</td>\n      <td>226.83</td>\n      <td>490.22</td>\n      <td>50.56</td>\n      <td>466.31</td>\n      <td>44.40</td>\n      <td>51.10</td>\n      <td>500.49</td>\n    </tr>\n    <tr>\n      <th>3</th>\n      <td>130.92</td>\n      <td>218.29</td>\n      <td>3162.16</td>\n      <td>268.74</td>\n      <td>1774.34</td>\n      <td>1787.25</td>\n      <td>816.04</td>\n      <td>533.76</td>\n      <td>235.04</td>\n      <td>501.43</td>\n      <td>50.66</td>\n      <td>477.74</td>\n      <td>44.96</td>\n      <td>52.19</td>\n      <td>508.89</td>\n    </tr>\n    <tr>\n      <th>4</th>\n      <td>132.05</td>\n      <td>219.62</td>\n      <td>3182.70</td>\n      <td>267.57</td>\n      <td>1797.83</td>\n      <td>1807.21</td>\n      <td>880.02</td>\n      <td>531.07</td>\n      <td>242.46</td>\n      <td>508.74</td>\n      <td>51.54</td>\n      <td>485.10</td>\n      <td>45.06</td>\n      <td>51.65</td>\n      <td>510.40</td>\n    </tr>\n    <tr>\n      <th>...</th>\n      <td>...</td>\n      <td>...</td>\n      <td>...</td>\n      <td>...</td>\n      <td>...</td>\n      <td>...</td>\n      <td>...</td>\n      <td>...</td>\n      <td>...</td>\n      <td>...</td>\n      <td>...</td>\n      <td>...</td>\n      <td>...</td>\n      <td>...</td>\n      <td>...</td>\n    </tr>\n    <tr>\n      <th>88</th>\n      <td>125.91</td>\n      <td>246.23</td>\n      <td>3223.91</td>\n      <td>306.53</td>\n      <td>2270.06</td>\n      <td>2308.76</td>\n      <td>617.20</td>\n      <td>572.25</td>\n      <td>248.60</td>\n      <td>630.66</td>\n      <td>57.50</td>\n      <td>485.19</td>\n      <td>52.83</td>\n      <td>55.04</td>\n      <td>495.08</td>\n    </tr>\n    <tr>\n      <th>89</th>\n      <td>122.77</td>\n      <td>239.00</td>\n      <td>3151.94</td>\n      <td>302.55</td>\n      <td>2200.25</td>\n      <td>2239.08</td>\n      <td>589.89</td>\n      <td>550.34</td>\n      <td>239.91</td>\n      <td>601.88</td>\n      <td>56.62</td>\n      <td>472.09</td>\n      <td>51.60</td>\n      <td>53.62</td>\n      <td>484.98</td>\n    </tr>\n    <tr>\n      <th>90</th>\n      <td>124.97</td>\n      <td>243.03</td>\n      <td>3161.47</td>\n      <td>305.26</td>\n      <td>2229.04</td>\n      <td>2261.97</td>\n      <td>571.69</td>\n      <td>546.61</td>\n      <td>240.80</td>\n      <td>623.09</td>\n      <td>57.39</td>\n      <td>474.16</td>\n      <td>52.49</td>\n      <td>54.01</td>\n      <td>486.66</td>\n    </tr>\n    <tr>\n      <th>91</th>\n      <td>127.45</td>\n      <td>248.15</td>\n      <td>3222.90</td>\n      <td>315.94</td>\n      <td>2278.38</td>\n      <td>2316.16</td>\n      <td>589.74</td>\n      <td>569.72</td>\n      <td>246.29</td>\n      <td>647.76</td>\n      <td>58.68</td>\n      <td>486.56</td>\n      <td>52.90</td>\n      <td>55.35</td>\n      <td>493.37</td>\n    </tr>\n    <tr>\n      <th>92</th>\n      <td>126.27</td>\n      <td>245.18</td>\n      <td>3270.39</td>\n      <td>315.46</td>\n      <td>2288.92</td>\n      <td>2321.41</td>\n      <td>576.83</td>\n      <td>566.62</td>\n      <td>244.36</td>\n      <td>635.35</td>\n      <td>55.45</td>\n      <td>482.74</td>\n      <td>52.94</td>\n      <td>55.33</td>\n      <td>488.94</td>\n    </tr>\n  </tbody>\n</table>\n<p>93 rows × 15 columns</p>\n</div>",
      "text/plain": "Symbol    AAPL    MSFT     AMZN      FB    GOOGL     GOOG    TSLA    NVDA  \\\n0       129.41  217.69  3186.63  268.94  1726.13  1728.24  729.77  524.54   \n1       131.01  217.90  3218.51  270.97  1740.05  1740.92  735.11  536.19   \n2       126.60  212.25  3138.38  263.31  1722.88  1735.29  755.98  504.58   \n3       130.92  218.29  3162.16  268.74  1774.34  1787.25  816.04  533.76   \n4       132.05  219.62  3182.70  267.57  1797.83  1807.21  880.02  531.07   \n..         ...     ...      ...     ...      ...      ...     ...     ...   \n88      125.91  246.23  3223.91  306.53  2270.06  2308.76  617.20  572.25   \n89      122.77  239.00  3151.94  302.55  2200.25  2239.08  589.89  550.34   \n90      124.97  243.03  3161.47  305.26  2229.04  2261.97  571.69  546.61   \n91      127.45  248.15  3222.90  315.94  2278.38  2316.16  589.74  569.72   \n92      126.27  245.18  3270.39  315.46  2288.92  2321.41  576.83  566.62   \n\nSymbol    PYPL    ASML  CMCSA    ADBE   CSCO   INTC    NFLX  \n0       231.92  500.00  50.51  485.34  43.96  49.67  522.86  \n1       234.91  505.36  49.98  485.69  43.98  50.61  520.80  \n2       226.83  490.22  50.56  466.31  44.40  51.10  500.49  \n3       235.04  501.43  50.66  477.74  44.96  52.19  508.89  \n4       242.46  508.74  51.54  485.10  45.06  51.65  510.40  \n..         ...     ...    ...     ...    ...    ...     ...  \n88      248.60  630.66  57.50  485.19  52.83  55.04  495.08  \n89      239.91  601.88  56.62  472.09  51.60  53.62  484.98  \n90      240.80  623.09  57.39  474.16  52.49  54.01  486.66  \n91      246.29  647.76  58.68  486.56  52.90  55.35  493.37  \n92      244.36  635.35  55.45  482.74  52.94  55.33  488.94  \n\n[93 rows x 15 columns]"
     },
     "execution_count": 58,
     "metadata": {},
     "output_type": "execute_result"
    }
   ],
   "source": [
    "nd_df"
   ]
  },
  {
   "cell_type": "code",
   "execution_count": 60,
   "metadata": {},
   "outputs": [
    {
     "data": {
      "text/plain": "Symbol\nAAPL     0\nMSFT     0\nAMZN     0\nFB       0\nGOOGL    0\nGOOG     0\nTSLA     0\nNVDA     0\nPYPL     0\nASML     0\nCMCSA    0\nADBE     0\nCSCO     0\nINTC     0\nNFLX     0\ndtype: int64"
     },
     "execution_count": 60,
     "metadata": {},
     "output_type": "execute_result"
    }
   ],
   "source": [
    "nd_df.isnull().sum()"
   ]
  },
  {
   "cell_type": "code",
   "execution_count": 62,
   "metadata": {},
   "outputs": [
    {
     "data": {
      "text/html": "<div>\n<style scoped>\n    .dataframe tbody tr th:only-of-type {\n        vertical-align: middle;\n    }\n\n    .dataframe tbody tr th {\n        vertical-align: top;\n    }\n\n    .dataframe thead th {\n        text-align: right;\n    }\n</style>\n<table border=\"1\" class=\"dataframe\">\n  <thead>\n    <tr style=\"text-align: right;\">\n      <th>Symbol</th>\n      <th>AAPL</th>\n      <th>MSFT</th>\n      <th>AMZN</th>\n      <th>FB</th>\n      <th>GOOGL</th>\n      <th>GOOG</th>\n      <th>TSLA</th>\n      <th>NVDA</th>\n      <th>PYPL</th>\n      <th>ASML</th>\n      <th>CMCSA</th>\n      <th>ADBE</th>\n      <th>CSCO</th>\n      <th>INTC</th>\n      <th>NFLX</th>\n    </tr>\n  </thead>\n  <tbody>\n    <tr>\n      <th>0</th>\n      <td>NaN</td>\n      <td>NaN</td>\n      <td>NaN</td>\n      <td>NaN</td>\n      <td>NaN</td>\n      <td>NaN</td>\n      <td>NaN</td>\n      <td>NaN</td>\n      <td>NaN</td>\n      <td>NaN</td>\n      <td>NaN</td>\n      <td>NaN</td>\n      <td>NaN</td>\n      <td>NaN</td>\n      <td>NaN</td>\n    </tr>\n    <tr>\n      <th>1</th>\n      <td>1.012364</td>\n      <td>1.000965</td>\n      <td>1.010004</td>\n      <td>1.007548</td>\n      <td>1.008064</td>\n      <td>1.007337</td>\n      <td>1.007317</td>\n      <td>1.022210</td>\n      <td>1.012892</td>\n      <td>1.010720</td>\n      <td>0.989507</td>\n      <td>1.000721</td>\n      <td>1.000455</td>\n      <td>1.018925</td>\n      <td>0.996060</td>\n    </tr>\n    <tr>\n      <th>2</th>\n      <td>0.966338</td>\n      <td>0.974071</td>\n      <td>0.975103</td>\n      <td>0.971731</td>\n      <td>0.990132</td>\n      <td>0.996766</td>\n      <td>1.028390</td>\n      <td>0.941047</td>\n      <td>0.965604</td>\n      <td>0.970041</td>\n      <td>1.011605</td>\n      <td>0.960098</td>\n      <td>1.009550</td>\n      <td>1.009682</td>\n      <td>0.961002</td>\n    </tr>\n    <tr>\n      <th>3</th>\n      <td>1.034123</td>\n      <td>1.028457</td>\n      <td>1.007577</td>\n      <td>1.020622</td>\n      <td>1.029869</td>\n      <td>1.029943</td>\n      <td>1.079447</td>\n      <td>1.057830</td>\n      <td>1.036195</td>\n      <td>1.022867</td>\n      <td>1.001978</td>\n      <td>1.024512</td>\n      <td>1.012613</td>\n      <td>1.021331</td>\n      <td>1.016784</td>\n    </tr>\n    <tr>\n      <th>4</th>\n      <td>1.008631</td>\n      <td>1.006093</td>\n      <td>1.006496</td>\n      <td>0.995646</td>\n      <td>1.013239</td>\n      <td>1.011168</td>\n      <td>1.078403</td>\n      <td>0.994960</td>\n      <td>1.031569</td>\n      <td>1.014578</td>\n      <td>1.017371</td>\n      <td>1.015406</td>\n      <td>1.002224</td>\n      <td>0.989653</td>\n      <td>1.002967</td>\n    </tr>\n    <tr>\n      <th>...</th>\n      <td>...</td>\n      <td>...</td>\n      <td>...</td>\n      <td>...</td>\n      <td>...</td>\n      <td>...</td>\n      <td>...</td>\n      <td>...</td>\n      <td>...</td>\n      <td>...</td>\n      <td>...</td>\n      <td>...</td>\n      <td>...</td>\n      <td>...</td>\n      <td>...</td>\n    </tr>\n    <tr>\n      <th>88</th>\n      <td>0.992590</td>\n      <td>0.996157</td>\n      <td>1.010475</td>\n      <td>1.001830</td>\n      <td>0.990536</td>\n      <td>0.985950</td>\n      <td>0.981178</td>\n      <td>1.002839</td>\n      <td>1.020400</td>\n      <td>1.005420</td>\n      <td>0.999826</td>\n      <td>1.012120</td>\n      <td>0.993792</td>\n      <td>0.983384</td>\n      <td>1.017239</td>\n    </tr>\n    <tr>\n      <th>89</th>\n      <td>0.975062</td>\n      <td>0.970637</td>\n      <td>0.977676</td>\n      <td>0.987016</td>\n      <td>0.969248</td>\n      <td>0.969819</td>\n      <td>0.955752</td>\n      <td>0.961713</td>\n      <td>0.965044</td>\n      <td>0.954365</td>\n      <td>0.984696</td>\n      <td>0.973000</td>\n      <td>0.976718</td>\n      <td>0.974201</td>\n      <td>0.979599</td>\n    </tr>\n    <tr>\n      <th>90</th>\n      <td>1.017920</td>\n      <td>1.016862</td>\n      <td>1.003024</td>\n      <td>1.008957</td>\n      <td>1.013085</td>\n      <td>1.010223</td>\n      <td>0.969147</td>\n      <td>0.993222</td>\n      <td>1.003710</td>\n      <td>1.035240</td>\n      <td>1.013599</td>\n      <td>1.004385</td>\n      <td>1.017248</td>\n      <td>1.007273</td>\n      <td>1.003464</td>\n    </tr>\n    <tr>\n      <th>91</th>\n      <td>1.019845</td>\n      <td>1.021067</td>\n      <td>1.019431</td>\n      <td>1.034987</td>\n      <td>1.022135</td>\n      <td>1.023957</td>\n      <td>1.031573</td>\n      <td>1.042279</td>\n      <td>1.022799</td>\n      <td>1.039593</td>\n      <td>1.022478</td>\n      <td>1.026152</td>\n      <td>1.007811</td>\n      <td>1.024810</td>\n      <td>1.013788</td>\n    </tr>\n    <tr>\n      <th>92</th>\n      <td>0.990741</td>\n      <td>0.988031</td>\n      <td>1.014735</td>\n      <td>0.998481</td>\n      <td>1.004626</td>\n      <td>1.002267</td>\n      <td>0.978109</td>\n      <td>0.994559</td>\n      <td>0.992164</td>\n      <td>0.980842</td>\n      <td>0.944956</td>\n      <td>0.992149</td>\n      <td>1.000756</td>\n      <td>0.999639</td>\n      <td>0.991021</td>\n    </tr>\n  </tbody>\n</table>\n<p>93 rows × 15 columns</p>\n</div>",
      "text/plain": "Symbol      AAPL      MSFT      AMZN        FB     GOOGL      GOOG      TSLA  \\\n0            NaN       NaN       NaN       NaN       NaN       NaN       NaN   \n1       1.012364  1.000965  1.010004  1.007548  1.008064  1.007337  1.007317   \n2       0.966338  0.974071  0.975103  0.971731  0.990132  0.996766  1.028390   \n3       1.034123  1.028457  1.007577  1.020622  1.029869  1.029943  1.079447   \n4       1.008631  1.006093  1.006496  0.995646  1.013239  1.011168  1.078403   \n..           ...       ...       ...       ...       ...       ...       ...   \n88      0.992590  0.996157  1.010475  1.001830  0.990536  0.985950  0.981178   \n89      0.975062  0.970637  0.977676  0.987016  0.969248  0.969819  0.955752   \n90      1.017920  1.016862  1.003024  1.008957  1.013085  1.010223  0.969147   \n91      1.019845  1.021067  1.019431  1.034987  1.022135  1.023957  1.031573   \n92      0.990741  0.988031  1.014735  0.998481  1.004626  1.002267  0.978109   \n\nSymbol      NVDA      PYPL      ASML     CMCSA      ADBE      CSCO      INTC  \\\n0            NaN       NaN       NaN       NaN       NaN       NaN       NaN   \n1       1.022210  1.012892  1.010720  0.989507  1.000721  1.000455  1.018925   \n2       0.941047  0.965604  0.970041  1.011605  0.960098  1.009550  1.009682   \n3       1.057830  1.036195  1.022867  1.001978  1.024512  1.012613  1.021331   \n4       0.994960  1.031569  1.014578  1.017371  1.015406  1.002224  0.989653   \n..           ...       ...       ...       ...       ...       ...       ...   \n88      1.002839  1.020400  1.005420  0.999826  1.012120  0.993792  0.983384   \n89      0.961713  0.965044  0.954365  0.984696  0.973000  0.976718  0.974201   \n90      0.993222  1.003710  1.035240  1.013599  1.004385  1.017248  1.007273   \n91      1.042279  1.022799  1.039593  1.022478  1.026152  1.007811  1.024810   \n92      0.994559  0.992164  0.980842  0.944956  0.992149  1.000756  0.999639   \n\nSymbol      NFLX  \n0            NaN  \n1       0.996060  \n2       0.961002  \n3       1.016784  \n4       1.002967  \n..           ...  \n88      1.017239  \n89      0.979599  \n90      1.003464  \n91      1.013788  \n92      0.991021  \n\n[93 rows x 15 columns]"
     },
     "execution_count": 62,
     "metadata": {},
     "output_type": "execute_result"
    }
   ],
   "source": [
    "(nd_df.pct_change()+1)"
   ]
  },
  {
   "cell_type": "code",
   "execution_count": 70,
   "metadata": {},
   "outputs": [],
   "source": [
    "return_per = round((nd_df.pct_change()+1).product() - 1 ,2)"
   ]
  },
  {
   "cell_type": "code",
   "execution_count": 71,
   "metadata": {},
   "outputs": [
    {
     "data": {
      "text/plain": "Symbol\nAAPL    -0.02\nMSFT     0.13\nAMZN     0.03\nFB       0.17\nGOOGL    0.33\nGOOG     0.34\nTSLA    -0.21\nNVDA     0.08\nPYPL     0.05\nASML     0.27\nCMCSA    0.10\nADBE    -0.01\nCSCO     0.20\nINTC     0.11\nNFLX    -0.06\ndtype: float64"
     },
     "execution_count": 71,
     "metadata": {},
     "output_type": "execute_result"
    }
   ],
   "source": [
    "return_per"
   ]
  },
  {
   "cell_type": "markdown",
   "metadata": {},
   "source": [
    "## Step 4. Sort by return\n",
    "- Top 3 - GOOG, GOOGL, ASML"
   ]
  },
  {
   "cell_type": "code",
   "execution_count": 72,
   "metadata": {},
   "outputs": [
    {
     "data": {
      "text/plain": "Symbol\nGOOG     0.34\nGOOGL    0.33\nASML     0.27\nCSCO     0.20\nFB       0.17\nMSFT     0.13\nINTC     0.11\nCMCSA    0.10\nNVDA     0.08\nPYPL     0.05\nAMZN     0.03\nADBE    -0.01\nAAPL    -0.02\nNFLX    -0.06\nTSLA    -0.21\ndtype: float64"
     },
     "execution_count": 72,
     "metadata": {},
     "output_type": "execute_result"
    }
   ],
   "source": [
    "return_per.sort_values(ascending=False)"
   ]
  },
  {
   "cell_type": "code",
   "execution_count": null,
   "metadata": {},
   "outputs": [],
   "source": []
  }
 ],
 "metadata": {
  "kernelspec": {
   "display_name": "Python 3.7.7 64-bit ('dataScience': conda)",
   "name": "python377jvsc74a57bd088212c6b79be9b544bafe6735d74fe8c206b1cc2a4f62e98b323686df1ed5be2"
  },
  "language_info": {
   "name": "python",
   "version": ""
  },
  "orig_nbformat": 2
 },
 "nbformat": 4,
 "nbformat_minor": 2
}